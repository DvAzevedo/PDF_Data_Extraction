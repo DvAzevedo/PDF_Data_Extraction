{
  "nbformat": 4,
  "nbformat_minor": 0,
  "metadata": {
    "colab": {
      "provenance": [],
      "authorship_tag": "ABX9TyMDqeqABRh6SuJu+B/FBvel",
      "include_colab_link": true
    },
    "kernelspec": {
      "name": "python3",
      "display_name": "Python 3"
    },
    "language_info": {
      "name": "python"
    }
  },
  "cells": [
    {
      "cell_type": "markdown",
      "metadata": {
        "id": "view-in-github",
        "colab_type": "text"
      },
      "source": [
        "<a href=\"https://colab.research.google.com/github/DvAzevedo/PDF_Data_Extraction/blob/main/PDF_Data_Extraction.ipynb\" target=\"_parent\"><img src=\"https://colab.research.google.com/assets/colab-badge.svg\" alt=\"Open In Colab\"/></a>"
      ]
    },
    {
      "cell_type": "markdown",
      "source": [
        "## Extração Automatizada de Dados de PDFs de Cabos Automotivos\n",
        "\n",
        "Este projeto tem como objetivo o estudo e a prática de técnicas de extração de dados estruturados e textuais de arquivos PDF. Utilizei técnicas de web scraping para baixar documentos técnicos e, em seguida, processei esses PDFs para extrair informações relevantes, organizando-as em formatos tabulares.\n",
        "\n",
        "Inicialmete foi necessário a extração de especificações de 28 diferentes tipos de cabos automotivos do site [Eland Cables](https://www.elandcables.com/cables/flr-automotive-thin-wall-cable).\n",
        "\n",
        "Tecnologias Utilizadas:\n",
        "\n",
        "    Python: Linguagem de programação principal.\n",
        "    requests: Para fazer requisições HTTP e baixar PDFs.\n",
        "    BeautifulSoup4: Para parsear HTML e localizar URLs de PDFs.\n",
        "    PyMuPDF (fitz): Para extração de texto de PDFs (informações descritivas).\n",
        "    tabula-py: Para extração de tabelas de PDFs.\n",
        "    pandas: Para manipulação, organização e armazenamento de dados tabulares (DataFrames e CSVs).\n",
        "    re (Regex): Para padrões de busca e extração de texto específicos.\n",
        "    Google Colab: Ambiente de desenvolvimento utilizado para execução e integração com o Google Drive.\n",
        "\n",
        "\n"
      ],
      "metadata": {
        "id": "jfTrw0Db894B"
      }
    },
    {
      "cell_type": "markdown",
      "source": [
        "## Web Scraping\n",
        "Baixando todos os pdf's sobre FLR Automotive Wire disponivél em: https://www.elandcables.com/cables/flr-automotive-thin-wall-cable"
      ],
      "metadata": {
        "id": "d5SmyvSrZkAf"
      }
    },
    {
      "cell_type": "code",
      "execution_count": null,
      "metadata": {
        "id": "TQRMYhC03_bs",
        "colab": {
          "base_uri": "https://localhost:8080/",
          "height": 356
        },
        "outputId": "9c843f9f-dfb9-4c59-848b-43384cfca4c1"
      },
      "outputs": [
        {
          "output_type": "error",
          "ename": "MessageError",
          "evalue": "Error: credential propagation was unsuccessful",
          "traceback": [
            "\u001b[0;31m---------------------------------------------------------------------------\u001b[0m",
            "\u001b[0;31mMessageError\u001b[0m                              Traceback (most recent call last)",
            "\u001b[0;32m<ipython-input-1-18c5ad27a949>\u001b[0m in \u001b[0;36m<cell line: 0>\u001b[0;34m()\u001b[0m\n\u001b[1;32m      1\u001b[0m \u001b[0;32mfrom\u001b[0m \u001b[0mgoogle\u001b[0m\u001b[0;34m.\u001b[0m\u001b[0mcolab\u001b[0m \u001b[0;32mimport\u001b[0m \u001b[0mdrive\u001b[0m\u001b[0;34m\u001b[0m\u001b[0;34m\u001b[0m\u001b[0m\n\u001b[0;32m----> 2\u001b[0;31m \u001b[0mdrive\u001b[0m\u001b[0;34m.\u001b[0m\u001b[0mmount\u001b[0m\u001b[0;34m(\u001b[0m\u001b[0;34m'/content/drive'\u001b[0m\u001b[0;34m)\u001b[0m\u001b[0;34m\u001b[0m\u001b[0;34m\u001b[0m\u001b[0m\n\u001b[0m\u001b[1;32m      3\u001b[0m \u001b[0;34m\u001b[0m\u001b[0m\n\u001b[1;32m      4\u001b[0m \u001b[0mget_ipython\u001b[0m\u001b[0;34m(\u001b[0m\u001b[0;34m)\u001b[0m\u001b[0;34m.\u001b[0m\u001b[0msystem\u001b[0m\u001b[0;34m(\u001b[0m\u001b[0;34m'pip install requests beautifulsoup4'\u001b[0m\u001b[0;34m)\u001b[0m\u001b[0;34m\u001b[0m\u001b[0;34m\u001b[0m\u001b[0m\n\u001b[1;32m      5\u001b[0m \u001b[0;34m\u001b[0m\u001b[0m\n",
            "\u001b[0;32m/usr/local/lib/python3.11/dist-packages/google/colab/drive.py\u001b[0m in \u001b[0;36mmount\u001b[0;34m(mountpoint, force_remount, timeout_ms, readonly)\u001b[0m\n\u001b[1;32m     98\u001b[0m \u001b[0;32mdef\u001b[0m \u001b[0mmount\u001b[0m\u001b[0;34m(\u001b[0m\u001b[0mmountpoint\u001b[0m\u001b[0;34m,\u001b[0m \u001b[0mforce_remount\u001b[0m\u001b[0;34m=\u001b[0m\u001b[0;32mFalse\u001b[0m\u001b[0;34m,\u001b[0m \u001b[0mtimeout_ms\u001b[0m\u001b[0;34m=\u001b[0m\u001b[0;36m120000\u001b[0m\u001b[0;34m,\u001b[0m \u001b[0mreadonly\u001b[0m\u001b[0;34m=\u001b[0m\u001b[0;32mFalse\u001b[0m\u001b[0;34m)\u001b[0m\u001b[0;34m:\u001b[0m\u001b[0;34m\u001b[0m\u001b[0;34m\u001b[0m\u001b[0m\n\u001b[1;32m     99\u001b[0m   \u001b[0;34m\"\"\"Mount your Google Drive at the specified mountpoint path.\"\"\"\u001b[0m\u001b[0;34m\u001b[0m\u001b[0;34m\u001b[0m\u001b[0m\n\u001b[0;32m--> 100\u001b[0;31m   return _mount(\n\u001b[0m\u001b[1;32m    101\u001b[0m       \u001b[0mmountpoint\u001b[0m\u001b[0;34m,\u001b[0m\u001b[0;34m\u001b[0m\u001b[0;34m\u001b[0m\u001b[0m\n\u001b[1;32m    102\u001b[0m       \u001b[0mforce_remount\u001b[0m\u001b[0;34m=\u001b[0m\u001b[0mforce_remount\u001b[0m\u001b[0;34m,\u001b[0m\u001b[0;34m\u001b[0m\u001b[0;34m\u001b[0m\u001b[0m\n",
            "\u001b[0;32m/usr/local/lib/python3.11/dist-packages/google/colab/drive.py\u001b[0m in \u001b[0;36m_mount\u001b[0;34m(mountpoint, force_remount, timeout_ms, ephemeral, readonly)\u001b[0m\n\u001b[1;32m    135\u001b[0m   )\n\u001b[1;32m    136\u001b[0m   \u001b[0;32mif\u001b[0m \u001b[0mephemeral\u001b[0m\u001b[0;34m:\u001b[0m\u001b[0;34m\u001b[0m\u001b[0;34m\u001b[0m\u001b[0m\n\u001b[0;32m--> 137\u001b[0;31m     _message.blocking_request(\n\u001b[0m\u001b[1;32m    138\u001b[0m         \u001b[0;34m'request_auth'\u001b[0m\u001b[0;34m,\u001b[0m\u001b[0;34m\u001b[0m\u001b[0;34m\u001b[0m\u001b[0m\n\u001b[1;32m    139\u001b[0m         \u001b[0mrequest\u001b[0m\u001b[0;34m=\u001b[0m\u001b[0;34m{\u001b[0m\u001b[0;34m'authType'\u001b[0m\u001b[0;34m:\u001b[0m \u001b[0;34m'dfs_ephemeral'\u001b[0m\u001b[0;34m}\u001b[0m\u001b[0;34m,\u001b[0m\u001b[0;34m\u001b[0m\u001b[0;34m\u001b[0m\u001b[0m\n",
            "\u001b[0;32m/usr/local/lib/python3.11/dist-packages/google/colab/_message.py\u001b[0m in \u001b[0;36mblocking_request\u001b[0;34m(request_type, request, timeout_sec, parent)\u001b[0m\n\u001b[1;32m    174\u001b[0m       \u001b[0mrequest_type\u001b[0m\u001b[0;34m,\u001b[0m \u001b[0mrequest\u001b[0m\u001b[0;34m,\u001b[0m \u001b[0mparent\u001b[0m\u001b[0;34m=\u001b[0m\u001b[0mparent\u001b[0m\u001b[0;34m,\u001b[0m \u001b[0mexpect_reply\u001b[0m\u001b[0;34m=\u001b[0m\u001b[0;32mTrue\u001b[0m\u001b[0;34m\u001b[0m\u001b[0;34m\u001b[0m\u001b[0m\n\u001b[1;32m    175\u001b[0m   )\n\u001b[0;32m--> 176\u001b[0;31m   \u001b[0;32mreturn\u001b[0m \u001b[0mread_reply_from_input\u001b[0m\u001b[0;34m(\u001b[0m\u001b[0mrequest_id\u001b[0m\u001b[0;34m,\u001b[0m \u001b[0mtimeout_sec\u001b[0m\u001b[0;34m)\u001b[0m\u001b[0;34m\u001b[0m\u001b[0;34m\u001b[0m\u001b[0m\n\u001b[0m",
            "\u001b[0;32m/usr/local/lib/python3.11/dist-packages/google/colab/_message.py\u001b[0m in \u001b[0;36mread_reply_from_input\u001b[0;34m(message_id, timeout_sec)\u001b[0m\n\u001b[1;32m    101\u001b[0m     ):\n\u001b[1;32m    102\u001b[0m       \u001b[0;32mif\u001b[0m \u001b[0;34m'error'\u001b[0m \u001b[0;32min\u001b[0m \u001b[0mreply\u001b[0m\u001b[0;34m:\u001b[0m\u001b[0;34m\u001b[0m\u001b[0;34m\u001b[0m\u001b[0m\n\u001b[0;32m--> 103\u001b[0;31m         \u001b[0;32mraise\u001b[0m \u001b[0mMessageError\u001b[0m\u001b[0;34m(\u001b[0m\u001b[0mreply\u001b[0m\u001b[0;34m[\u001b[0m\u001b[0;34m'error'\u001b[0m\u001b[0;34m]\u001b[0m\u001b[0;34m)\u001b[0m\u001b[0;34m\u001b[0m\u001b[0;34m\u001b[0m\u001b[0m\n\u001b[0m\u001b[1;32m    104\u001b[0m       \u001b[0;32mreturn\u001b[0m \u001b[0mreply\u001b[0m\u001b[0;34m.\u001b[0m\u001b[0mget\u001b[0m\u001b[0;34m(\u001b[0m\u001b[0;34m'data'\u001b[0m\u001b[0;34m,\u001b[0m \u001b[0;32mNone\u001b[0m\u001b[0;34m)\u001b[0m\u001b[0;34m\u001b[0m\u001b[0;34m\u001b[0m\u001b[0m\n\u001b[1;32m    105\u001b[0m \u001b[0;34m\u001b[0m\u001b[0m\n",
            "\u001b[0;31mMessageError\u001b[0m: Error: credential propagation was unsuccessful"
          ]
        }
      ],
      "source": [
        "from google.colab import drive\n",
        "drive.mount('/content/drive')\n",
        "\n",
        "!pip install requests beautifulsoup4\n",
        "\n",
        "import requests\n",
        "from bs4 import BeautifulSoup\n",
        "import os\n",
        "from google.colab import drive"
      ]
    },
    {
      "cell_type": "code",
      "source": [
        "os.makedirs('/content/drive/MyDrive/Eland_Cables_Data/', exist_ok = True)\n",
        "output_dir = '/content/drive/MyDrive/Eland_Cables_Data/CablesPDFs/'\n",
        "os.makedirs(output_dir, exist_ok=True)\n",
        "\n",
        "base_url = \"https://www.elandcables.com\"\n",
        "page_url = \"https://www.elandcables.com/cables/flr-automotive-thin-wall-cable\""
      ],
      "metadata": {
        "id": "Gp7_ePRa89M-"
      },
      "execution_count": null,
      "outputs": []
    },
    {
      "cell_type": "code",
      "source": [
        "print(f\"Acessando a página: {page_url}\")\n",
        "try:\n",
        "  response = requests.get(page_url)\n",
        "  response.raise_for_status()\n",
        "  soup = BeautifulSoup(response.content, 'html.parser')\n",
        "  print(\"Página acessada com sucesso.\")\n",
        "except requests.exceptions.RequestException as e:\n",
        "  print(f\"Erro ao acessar a página: {e}\")\n",
        "  exit()"
      ],
      "metadata": {
        "colab": {
          "base_uri": "https://localhost:8080/"
        },
        "id": "ZMhMtc23-P3N",
        "outputId": "f0a962be-0c25-4db6-d4de-b8ff6897dd2b"
      },
      "execution_count": null,
      "outputs": [
        {
          "output_type": "stream",
          "name": "stdout",
          "text": [
            "Acessando a página: https://www.elandcables.com/cables/flr-automotive-thin-wall-cable\n",
            "Página acessada com sucesso.\n"
          ]
        }
      ]
    },
    {
      "cell_type": "code",
      "source": [
        "pdf_links = []\n",
        "# <a class=\"product-pdf\" data-document=\"/media/39786/flry-a-cables.pdf\"\n",
        "# href=\"https://www.elandcables.com/media/39786/flry-a-cables.pdf\" target=\"_blank\">FLRY-A Cable</a>\n",
        "for a_tag in soup.find_all('a', class_='product-pdf', href=True):\n",
        "    href = a_tag['href']\n",
        "\n",
        "    if href.endswith('.pdf') or '/media/' in href:\n",
        "        full_url = href if href.startswith('http') else base_url + href\n",
        "        pdf_links.append(full_url)\n",
        "\n",
        "pdf_links = list(set(pdf_links))\n",
        "\n",
        "print(f\"Encontrados {len(pdf_links)} links de PDFs.\")\n",
        "if not pdf_links:\n",
        "    print(\"Nenhum link de PDF encontrado com o padrão especificado.\")\n",
        "    print(\"Por favor, verifique o HTML da página ou o padrão no script.\")\n"
      ],
      "metadata": {
        "colab": {
          "base_uri": "https://localhost:8080/"
        },
        "id": "39DwXjkqR7Hq",
        "outputId": "84426fc3-6a10-4264-b76b-a7c1bad8ba06"
      },
      "execution_count": null,
      "outputs": [
        {
          "output_type": "stream",
          "name": "stdout",
          "text": [
            "Encontrados 28 links de PDFs.\n"
          ]
        }
      ]
    },
    {
      "cell_type": "code",
      "source": [
        "downloaded_count = 0\n",
        "for pdf_url in pdf_links:\n",
        "  try:\n",
        "    file_name = pdf_url.split('/')[-1]\n",
        "    file_path = os.path.join(output_dir, file_name)\n",
        "\n",
        "    print(f\"Baixando {file_name} de {pdf_url}\")\n",
        "    response = requests.get(pdf_url)\n",
        "    response.raise_for_status()\n",
        "\n",
        "    with open(file_path, 'wb') as file:\n",
        "      for chunk in response.iter_content(chunk_size=8192):\n",
        "        file.write(chunk)\n",
        "\n",
        "      print(f\"Salvo: {file_path}\")\n",
        "      downloaded_count += 1\n",
        "  except requests.exceptions.RequestException as e:\n",
        "    print(f\"Erro ao baixar {pdf_url}: {e}\")\n",
        "  except Exception as e:\n",
        "    print(f\"Erro inesperado ao baixar {pdf_url}: {e}\")\n",
        "\n",
        "print(f\"Download concluído. {downloaded_count} arquivos baixados.\")"
      ],
      "metadata": {
        "colab": {
          "base_uri": "https://localhost:8080/"
        },
        "collapsed": true,
        "id": "CbMlwx3GS8qr",
        "outputId": "69ef820f-ddaf-4717-8784-5347d779db8e"
      },
      "execution_count": null,
      "outputs": [
        {
          "output_type": "stream",
          "name": "stdout",
          "text": [
            "Baixando flrywk-cable.pdf de https://www.elandcables.com/media/sq4bqo0m/flrywk-cable.pdf\n",
            "Salvo: /content/drive/MyDrive/Eland_Cables_Data/CablesPDFs/flrywk-cable.pdf\n",
            "Baixando flr7y-b-cable.pdf de https://www.elandcables.com/media/d1jhmk4u/flr7y-b-cable.pdf\n",
            "Salvo: /content/drive/MyDrive/Eland_Cables_Data/CablesPDFs/flr7y-b-cable.pdf\n",
            "Baixando flr13y-a-cable.pdf de https://www.elandcables.com/media/5msdynfj/flr13y-a-cable.pdf\n",
            "Salvo: /content/drive/MyDrive/Eland_Cables_Data/CablesPDFs/flr13y-a-cable.pdf\n",
            "Baixando flryw-b-cable.pdf de https://www.elandcables.com/media/vumnvk5b/flryw-b-cable.pdf\n",
            "Salvo: /content/drive/MyDrive/Eland_Cables_Data/CablesPDFs/flryw-b-cable.pdf\n",
            "Baixando flr13y-b-cable.pdf de https://www.elandcables.com/media/dzjeo0zy/flr13y-b-cable.pdf\n",
            "Salvo: /content/drive/MyDrive/Eland_Cables_Data/CablesPDFs/flr13y-b-cable.pdf\n",
            "Baixando flry-b-cables.pdf de https://www.elandcables.com/media/39716/flry-b-cables.pdf\n",
            "Salvo: /content/drive/MyDrive/Eland_Cables_Data/CablesPDFs/flry-b-cables.pdf\n",
            "Baixando flr12y-b-cable.pdf de https://www.elandcables.com/media/4gij5e1l/flr12y-b-cable.pdf\n",
            "Salvo: /content/drive/MyDrive/Eland_Cables_Data/CablesPDFs/flr12y-b-cable.pdf\n",
            "Baixando flr51y-b-cable.pdf de https://www.elandcables.com/media/holbfmdj/flr51y-b-cable.pdf\n",
            "Salvo: /content/drive/MyDrive/Eland_Cables_Data/CablesPDFs/flr51y-b-cable.pdf\n",
            "Baixando flr5y-a-cable.pdf de https://www.elandcables.com/media/jpgkkx5i/flr5y-a-cable.pdf\n",
            "Salvo: /content/drive/MyDrive/Eland_Cables_Data/CablesPDFs/flr5y-a-cable.pdf\n",
            "Baixando flr4y-a-cable.pdf de https://www.elandcables.com/media/5bidi0xv/flr4y-a-cable.pdf\n",
            "Salvo: /content/drive/MyDrive/Eland_Cables_Data/CablesPDFs/flr4y-a-cable.pdf\n",
            "Baixando flry-a-cables.pdf de https://www.elandcables.com/media/39786/flry-a-cables.pdf\n",
            "Salvo: /content/drive/MyDrive/Eland_Cables_Data/CablesPDFs/flry-a-cables.pdf\n",
            "Baixando flr9y-a-cable.pdf de https://www.elandcables.com/media/zyebfv2q/flr9y-a-cable.pdf\n",
            "Salvo: /content/drive/MyDrive/Eland_Cables_Data/CablesPDFs/flr9y-a-cable.pdf\n",
            "Baixando flr4y-b-cable.pdf de https://www.elandcables.com/media/3hdmp2oo/flr4y-b-cable.pdf\n",
            "Salvo: /content/drive/MyDrive/Eland_Cables_Data/CablesPDFs/flr4y-b-cable.pdf\n",
            "Baixando flr9y-b-cable.pdf de https://www.elandcables.com/media/l02diuxk/flr9y-b-cable.pdf\n",
            "Salvo: /content/drive/MyDrive/Eland_Cables_Data/CablesPDFs/flr9y-b-cable.pdf\n",
            "Baixando flryw-a-cable.pdf de https://www.elandcables.com/media/4gvbrvev/flryw-a-cable.pdf\n",
            "Salvo: /content/drive/MyDrive/Eland_Cables_Data/CablesPDFs/flryw-a-cable.pdf\n",
            "Baixando flr2x-b-cable.pdf de https://www.elandcables.com/media/21lln4kq/flr2x-b-cable.pdf\n",
            "Salvo: /content/drive/MyDrive/Eland_Cables_Data/CablesPDFs/flr2x-b-cable.pdf\n",
            "Baixando flr51y-a-cable.pdf de https://www.elandcables.com/media/dufj5zjz/flr51y-a-cable.pdf\n",
            "Salvo: /content/drive/MyDrive/Eland_Cables_Data/CablesPDFs/flr51y-a-cable.pdf\n",
            "Baixando flrydy-cable.pdf de https://www.elandcables.com/media/daxpqhp2/flrydy-cable.pdf\n",
            "Salvo: /content/drive/MyDrive/Eland_Cables_Data/CablesPDFs/flrydy-cable.pdf\n",
            "Baixando flrywd-cable.pdf de https://www.elandcables.com/media/234ptkcq/flrywd-cable.pdf\n",
            "Salvo: /content/drive/MyDrive/Eland_Cables_Data/CablesPDFs/flrywd-cable.pdf\n",
            "Baixando flr6y-a-cable.pdf de https://www.elandcables.com/media/3kdjatmt/flr6y-a-cable.pdf\n",
            "Salvo: /content/drive/MyDrive/Eland_Cables_Data/CablesPDFs/flr6y-a-cable.pdf\n",
            "Baixando flryk-cable.pdf de https://www.elandcables.com/media/cjnj0o01/flryk-cable.pdf\n",
            "Salvo: /content/drive/MyDrive/Eland_Cables_Data/CablesPDFs/flryk-cable.pdf\n",
            "Baixando flryy-cable.pdf de https://www.elandcables.com/media/tljlfcav/flryy-cable.pdf\n",
            "Salvo: /content/drive/MyDrive/Eland_Cables_Data/CablesPDFs/flryy-cable.pdf\n",
            "Baixando flr14y-cable.pdf de https://www.elandcables.com/media/ndopfckz/flr14y-cable.pdf\n",
            "Salvo: /content/drive/MyDrive/Eland_Cables_Data/CablesPDFs/flr14y-cable.pdf\n",
            "Baixando flr5y-b-cable.pdf de https://www.elandcables.com/media/1xrf2ema/flr5y-b-cable.pdf\n",
            "Salvo: /content/drive/MyDrive/Eland_Cables_Data/CablesPDFs/flr5y-b-cable.pdf\n",
            "Baixando flr2x-a-cable.pdf de https://www.elandcables.com/media/114arlxh/flr2x-a-cable.pdf\n",
            "Salvo: /content/drive/MyDrive/Eland_Cables_Data/CablesPDFs/flr2x-a-cable.pdf\n",
            "Baixando flr6y-b-cable.pdf de https://www.elandcables.com/media/esthbaqd/flr6y-b-cable.pdf\n",
            "Salvo: /content/drive/MyDrive/Eland_Cables_Data/CablesPDFs/flr6y-b-cable.pdf\n",
            "Baixando flr12y-a-cable.pdf de https://www.elandcables.com/media/jt4ldvba/flr12y-a-cable.pdf\n",
            "Salvo: /content/drive/MyDrive/Eland_Cables_Data/CablesPDFs/flr12y-a-cable.pdf\n",
            "Baixando flr7y-a-cable.pdf de https://www.elandcables.com/media/wycdsax3/flr7y-a-cable.pdf\n",
            "Salvo: /content/drive/MyDrive/Eland_Cables_Data/CablesPDFs/flr7y-a-cable.pdf\n",
            "Download concluído. 28 arquivos baixados.\n"
          ]
        }
      ]
    },
    {
      "cell_type": "code",
      "source": [
        "!ls /content/drive/MyDrive/Eland_Cables_Data/CablesPDFs/"
      ],
      "metadata": {
        "colab": {
          "base_uri": "https://localhost:8080/"
        },
        "id": "PysiFNBJSYG9",
        "outputId": "30340d02-85eb-47d0-bf61-2fa4b09f2fe5"
      },
      "execution_count": null,
      "outputs": [
        {
          "output_type": "stream",
          "name": "stdout",
          "text": [
            "flr12y-a-cable.pdf  flr4y-a-cable.pdf\tflr6y-b-cable.pdf  flrydy-cable.pdf\n",
            "flr12y-b-cable.pdf  flr4y-b-cable.pdf\tflr7y-a-cable.pdf  flryk-cable.pdf\n",
            "flr13y-a-cable.pdf  flr51y-a-cable.pdf\tflr7y-b-cable.pdf  flryw-a-cable.pdf\n",
            "flr13y-b-cable.pdf  flr51y-b-cable.pdf\tflr9y-a-cable.pdf  flryw-b-cable.pdf\n",
            "flr14y-cable.pdf    flr5y-a-cable.pdf\tflr9y-b-cable.pdf  flrywd-cable.pdf\n",
            "flr2x-a-cable.pdf   flr5y-b-cable.pdf\tflry-a-cables.pdf  flrywk-cable.pdf\n",
            "flr2x-b-cable.pdf   flr6y-a-cable.pdf\tflry-b-cables.pdf  flryy-cable.pdf\n"
          ]
        }
      ]
    },
    {
      "cell_type": "markdown",
      "source": [
        "## Extracting PDF data\n",
        "  Extracting the tables of each Pdf"
      ],
      "metadata": {
        "id": "k2TWyvnGaTC2"
      }
    },
    {
      "cell_type": "code",
      "source": [
        "from google.colab import drive\n",
        "drive.mount('/content/drive')\n",
        "\n",
        "!pip install tabula-py pymupdf pandas\n",
        "import fitz\n",
        "import tabula\n",
        "import pandas as pd\n",
        "import os\n",
        "import re"
      ],
      "metadata": {
        "id": "pnWZVSOnc4D-",
        "colab": {
          "base_uri": "https://localhost:8080/"
        },
        "outputId": "e9e50a31-a170-4e14-ff55-81116696c8de"
      },
      "execution_count": null,
      "outputs": [
        {
          "output_type": "stream",
          "name": "stdout",
          "text": [
            "Drive already mounted at /content/drive; to attempt to forcibly remount, call drive.mount(\"/content/drive\", force_remount=True).\n",
            "Collecting tabula-py\n",
            "  Downloading tabula_py-2.10.0-py3-none-any.whl.metadata (7.6 kB)\n",
            "Collecting pymupdf\n",
            "  Downloading pymupdf-1.26.0-cp39-abi3-manylinux2014_x86_64.manylinux_2_17_x86_64.whl.metadata (3.4 kB)\n",
            "Requirement already satisfied: pandas in /usr/local/lib/python3.11/dist-packages (2.2.2)\n",
            "Requirement already satisfied: numpy>1.24.4 in /usr/local/lib/python3.11/dist-packages (from tabula-py) (2.0.2)\n",
            "Requirement already satisfied: distro in /usr/local/lib/python3.11/dist-packages (from tabula-py) (1.9.0)\n",
            "Requirement already satisfied: python-dateutil>=2.8.2 in /usr/local/lib/python3.11/dist-packages (from pandas) (2.9.0.post0)\n",
            "Requirement already satisfied: pytz>=2020.1 in /usr/local/lib/python3.11/dist-packages (from pandas) (2025.2)\n",
            "Requirement already satisfied: tzdata>=2022.7 in /usr/local/lib/python3.11/dist-packages (from pandas) (2025.2)\n",
            "Requirement already satisfied: six>=1.5 in /usr/local/lib/python3.11/dist-packages (from python-dateutil>=2.8.2->pandas) (1.17.0)\n",
            "Downloading tabula_py-2.10.0-py3-none-any.whl (12.0 MB)\n",
            "\u001b[2K   \u001b[90m━━━━━━━━━━━━━━━━━━━━━━━━━━━━━━━━━━━━━━━━\u001b[0m \u001b[32m12.0/12.0 MB\u001b[0m \u001b[31m79.0 MB/s\u001b[0m eta \u001b[36m0:00:00\u001b[0m\n",
            "\u001b[?25hDownloading pymupdf-1.26.0-cp39-abi3-manylinux2014_x86_64.manylinux_2_17_x86_64.whl (24.1 MB)\n",
            "\u001b[2K   \u001b[90m━━━━━━━━━━━━━━━━━━━━━━━━━━━━━━━━━━━━━━━━\u001b[0m \u001b[32m24.1/24.1 MB\u001b[0m \u001b[31m77.5 MB/s\u001b[0m eta \u001b[36m0:00:00\u001b[0m\n",
            "\u001b[?25hInstalling collected packages: pymupdf, tabula-py\n",
            "Successfully installed pymupdf-1.26.0 tabula-py-2.10.0\n"
          ]
        }
      ]
    },
    {
      "cell_type": "code",
      "source": [
        "# Extrai informações textuais específicas (Application, Characteristics, Construction, Standards), mantendo o conteúdo completo dos blocos.\n",
        "def extract_textual_info(pdf_path, page_num=0):\n",
        "    extracted_data = {}\n",
        "\n",
        "    try:\n",
        "        document = fitz.open(pdf_path)\n",
        "        page = document[page_num]\n",
        "        full_text = page.get_text(\"text\")\n",
        "        document.close()\n",
        "\n",
        "        cleaned_text = re.sub(r'\\s+', ' ', full_text).strip()\n",
        "\n",
        "        keywords = [\n",
        "            \"APPLICATION\", \"CHARACTERISTICS\", \"CONSTRUCTION\", \"STANDARDS\",\n",
        "            \"THE CABLE LAB®\", \"Eland Product Group\"\n",
        "        ]\n",
        "\n",
        "        found_keywords_with_pos = []\n",
        "        for keyword in keywords:\n",
        "            match = re.search(r'\\b' + re.escape(keyword) + r'\\b', cleaned_text, re.IGNORECASE)\n",
        "            if match:\n",
        "                found_keywords_with_pos.append({'keyword': keyword, 'start_pos': match.start()})\n",
        "\n",
        "        found_keywords_with_pos.sort(key=lambda x: x['start_pos'])\n",
        "\n",
        "        sections_raw = {}\n",
        "        ordered_keywords_only = [item['keyword'] for item in found_keywords_with_pos]\n",
        "\n",
        "        for i, current_keyword in enumerate(ordered_keywords_only):\n",
        "            start_index = cleaned_text.find(current_keyword, found_keywords_with_pos[i]['start_pos']) + len(current_keyword)\n",
        "\n",
        "            end_index = len(cleaned_text)\n",
        "            if i + 1 < len(ordered_keywords_only):\n",
        "                next_keyword = ordered_keywords_only[i+1]\n",
        "                next_keyword_match = re.search(r'\\b' + re.escape(next_keyword) + r'\\b', cleaned_text[start_index:], re.IGNORECASE)\n",
        "                if next_keyword_match:\n",
        "                    end_index = start_index + next_keyword_match.start()\n",
        "\n",
        "            block_content = cleaned_text[start_index:end_index].strip()\n",
        "            sections_raw[current_keyword] = block_content\n",
        "\n",
        "\n",
        "        # Nome do Cabo\n",
        "        pdf_file_name = os.path.basename(pdf_path)\n",
        "        cable_name_clean = pdf_file_name.replace('.pdf', '').split('_data')[0]\n",
        "        extracted_data['Cable_Name'] = cable_name_clean\n",
        "\n",
        "        # Atribuição dos blocos completos\n",
        "        extracted_data['Application'] = sections_raw.get('APPLICATION', 'N/A')\n",
        "        extracted_data['Characteristics'] = sections_raw.get('CHARACTERISTICS', 'N/A')\n",
        "        extracted_data['Construction'] = sections_raw.get('CONSTRUCTION', 'N/A')\n",
        "        extracted_data['Standards'] = sections_raw.get('STANDARDS', 'N/A')\n",
        "\n",
        "        product_group_match = re.search(r'Eland Product Group:\\s*([A-Z0-9]+)', cleaned_text, re.IGNORECASE)\n",
        "        extracted_data['Eland_Product_Group'] = product_group_match.group(1).strip() if product_group_match else \"N/A\"\n",
        "\n",
        "    except Exception as e:\n",
        "        print(f\"Erro ao extrair informações textuais de {pdf_path}: {e}\")\n",
        "\n",
        "        expected_keys = [\n",
        "            'Cable_Name', 'Application', 'Characteristics', 'Construction', 'Standards', 'Eland_Product_Group'\n",
        "        ]\n",
        "        for key in expected_keys:\n",
        "            if key not in extracted_data:\n",
        "                extracted_data[key] = \"ERROR_N/A\"\n",
        "\n",
        "    return extracted_data\n"
      ],
      "metadata": {
        "id": "pltwKdl34L7W"
      },
      "execution_count": null,
      "outputs": []
    },
    {
      "cell_type": "code",
      "source": [
        "# Extrai tabelas de uma página específica do PDF usando tabula-py. Retorna uma lista de DataFrames, um para cada tabela encontrada na página.\n",
        "def extract_tables(pdf_path, page_num=1):\n",
        "\n",
        "    try:\n",
        "        tables = tabula.read_pdf(pdf_path, pages=str(page_num + 1), multiple_tables=True,\n",
        "                                 pandas_options={'header': None})\n",
        "        cleaned_tables = []\n",
        "        if tables:\n",
        "            for df in tables:\n",
        "                df.dropna(how='all', inplace=True)\n",
        "                df.dropna(axis=1, how='all', inplace=True)\n",
        "                if not df.empty:\n",
        "                    cleaned_tables.append(df)\n",
        "\n",
        "            return cleaned_tables if cleaned_tables else []\n",
        "        else:\n",
        "            print(f\"Nenhuma tabela encontrada na página {page_num + 1} de {pdf_path}.\")\n",
        "            return []\n",
        "\n",
        "    except Exception as e:\n",
        "        print(f\"Erro ao extrair tabelas de {pdf_path}: {e}\")\n",
        "        return []"
      ],
      "metadata": {
        "id": "zpWnzm6D4fFP"
      },
      "execution_count": null,
      "outputs": []
    },
    {
      "cell_type": "code",
      "source": [
        "\n",
        "pdf_folder_path = '/content/drive/MyDrive/Eland_Cables_Data/CablesPDFs/'\n",
        "output_csv_folder = '/content/drive/MyDrive/Eland_Cables_Data/CablesCSV/'\n",
        "os.makedirs(output_csv_folder, exist_ok=True)\n",
        "\n",
        "all_pdf_files = [f for f in os.listdir(pdf_folder_path) if f.endswith('.pdf')]\n",
        "print(f\"\\nEncontrados {len(all_pdf_files)} PDFs na pasta: {pdf_folder_path}\")\n",
        "\n",
        "all_textual_data_dfs = []\n",
        "\n",
        "# Processar cada PDF\n",
        "for pdf_file in all_pdf_files:\n",
        "    pdf_path = os.path.join(pdf_folder_path, pdf_file)\n",
        "    print(f\"\\n--- Processando: {pdf_file} ---\")\n",
        "\n",
        "    # Extrair e Salvar Dados Textuais\n",
        "    text_info = extract_textual_info(pdf_path, page_num=0)\n",
        "\n",
        "    # Criar um DataFrame de uma única linha para as informações textuais\n",
        "    df_text_current_pdf = pd.DataFrame([text_info])\n",
        "    all_textual_data_dfs.append(df_text_current_pdf)\n",
        "\n",
        "    print(f\"Informações textuais extraídas para {pdf_file}.\")\n",
        "\n",
        "    # Extrair e Salvar Tabelas\n",
        "    df_tables_list = extract_tables(pdf_path, page_num=1)\n",
        "\n",
        "    if df_tables_list:\n",
        "        cable_name_for_tables = text_info.get('Cable_Name', os.path.basename(pdf_file).replace('.pdf', ''))\n",
        "\n",
        "        for i, df_table in enumerate(df_tables_list):\n",
        "            # Adicionar nome do cabo e identificador da tabela à tabela\n",
        "            df_table['Source_PDF'] = pdf_file\n",
        "            df_table['Cable_Name'] = cable_name_for_tables\n",
        "            df_table['Table_Index'] = i + 1\n",
        "\n",
        "            # Gerar nome do arquivo CSV para a tabela\n",
        "            table_csv_name = f\"{cable_name_for_tables}_Tabela_{i+1}.csv\"\n",
        "            table_csv_path = os.path.join(output_csv_folder, table_csv_name)\n",
        "\n",
        "            df_table.to_csv(table_csv_path, index=False)\n",
        "            print(f\"Tabela {i+1} de {pdf_file} salva em: {table_csv_path}\")\n",
        "    else:\n",
        "        print(f\"Nenhuma tabela encontrada ou extraída de {pdf_file}.\")\n",
        "\n",
        "print(\"\\n--- Processamento de todos os PDFs concluído ---\")\n",
        "\n",
        "if all_textual_data_dfs:\n",
        "    final_combined_textual_df = pd.concat(all_textual_data_dfs, ignore_index=True)\n",
        "    combined_textual_output_path = os.path.join(output_csv_folder, 'all_cables_textual_data_combined.csv')\n",
        "    final_combined_textual_df.to_csv(combined_textual_output_path, index=False)\n",
        "    print(f\"\\nTodos os dados textuais combinados salvos em: {combined_textual_output_path}\")\n",
        "    print(\"\\nVisualização das primeiras linhas do DataFrame textual combinado:\")\n",
        "    print(final_combined_textual_df.head())\n",
        "else:\n",
        "    print(\"\\nNenhum dado textual extraído para combinar.\")"
      ],
      "metadata": {
        "colab": {
          "base_uri": "https://localhost:8080/"
        },
        "id": "ByBehMqa4s4U",
        "outputId": "4b791d45-bd25-44f5-a8de-64370641856c"
      },
      "execution_count": null,
      "outputs": [
        {
          "output_type": "stream",
          "name": "stderr",
          "text": [
            "WARNING:tabula.backend:Failed to import jpype dependencies. Fallback to subprocess.\n",
            "WARNING:tabula.backend:No module named 'jpype'\n"
          ]
        },
        {
          "output_type": "stream",
          "name": "stdout",
          "text": [
            "\n",
            "Encontrados 28 PDFs na pasta: /content/drive/MyDrive/Eland_Cables_Data/CablesPDFs/\n",
            "\n",
            "--- Processando: flrywk-cable.pdf ---\n",
            "Informações textuais extraídas para flrywk-cable.pdf.\n",
            "Tabela 1 de flrywk-cable.pdf salva em: /content/drive/MyDrive/Eland_Cables_Data/CablesCSV/flrywk-cable_Tabela_1.csv\n",
            "\n",
            "--- Processando: flr7y-b-cable.pdf ---\n",
            "Informações textuais extraídas para flr7y-b-cable.pdf.\n"
          ]
        },
        {
          "output_type": "stream",
          "name": "stderr",
          "text": [
            "ERROR:tabula.backend:Error from tabula-java:\n",
            "Exception in thread \"main\" java.lang.IndexOutOfBoundsException: Page number does not exist.\n",
            "\tat technology.tabula.ObjectExtractor.extractPage(ObjectExtractor.java:19)\n",
            "\tat technology.tabula.PageIterator.next(PageIterator.java:30)\n",
            "\tat technology.tabula.CommandLineApp.extractFile(CommandLineApp.java:161)\n",
            "\tat technology.tabula.CommandLineApp.extractFileTables(CommandLineApp.java:124)\n",
            "\tat technology.tabula.CommandLineApp.extractTables(CommandLineApp.java:106)\n",
            "\tat technology.tabula.CommandLineApp.main(CommandLineApp.java:76)\n",
            "\n",
            "\n"
          ]
        },
        {
          "output_type": "stream",
          "name": "stdout",
          "text": [
            "Erro ao extrair tabelas de /content/drive/MyDrive/Eland_Cables_Data/CablesPDFs/flr7y-b-cable.pdf: Command '['java', '-Dfile.encoding=UTF8', '-jar', '/usr/local/lib/python3.11/dist-packages/tabula/tabula-1.0.5-jar-with-dependencies.jar', '--pages', '2', '--guess', '--format', 'JSON', '/content/drive/MyDrive/Eland_Cables_Data/CablesPDFs/flr7y-b-cable.pdf']' returned non-zero exit status 1.\n",
            "Nenhuma tabela encontrada ou extraída de flr7y-b-cable.pdf.\n",
            "\n",
            "--- Processando: flr13y-a-cable.pdf ---\n",
            "Informações textuais extraídas para flr13y-a-cable.pdf.\n",
            "Nenhuma tabela encontrada na página 2 de /content/drive/MyDrive/Eland_Cables_Data/CablesPDFs/flr13y-a-cable.pdf.\n",
            "Nenhuma tabela encontrada ou extraída de flr13y-a-cable.pdf.\n",
            "\n",
            "--- Processando: flryw-b-cable.pdf ---\n",
            "Informações textuais extraídas para flryw-b-cable.pdf.\n",
            "Tabela 1 de flryw-b-cable.pdf salva em: /content/drive/MyDrive/Eland_Cables_Data/CablesCSV/flryw-b-cable_Tabela_1.csv\n",
            "Tabela 2 de flryw-b-cable.pdf salva em: /content/drive/MyDrive/Eland_Cables_Data/CablesCSV/flryw-b-cable_Tabela_2.csv\n",
            "\n",
            "--- Processando: flr13y-b-cable.pdf ---\n",
            "Informações textuais extraídas para flr13y-b-cable.pdf.\n",
            "Nenhuma tabela encontrada na página 2 de /content/drive/MyDrive/Eland_Cables_Data/CablesPDFs/flr13y-b-cable.pdf.\n",
            "Nenhuma tabela encontrada ou extraída de flr13y-b-cable.pdf.\n",
            "\n",
            "--- Processando: flry-b-cables.pdf ---\n",
            "Informações textuais extraídas para flry-b-cables.pdf.\n",
            "Tabela 1 de flry-b-cables.pdf salva em: /content/drive/MyDrive/Eland_Cables_Data/CablesCSV/flry-b-cables_Tabela_1.csv\n",
            "\n",
            "--- Processando: flr12y-b-cable.pdf ---\n",
            "Informações textuais extraídas para flr12y-b-cable.pdf.\n",
            "Nenhuma tabela encontrada na página 2 de /content/drive/MyDrive/Eland_Cables_Data/CablesPDFs/flr12y-b-cable.pdf.\n",
            "Nenhuma tabela encontrada ou extraída de flr12y-b-cable.pdf.\n",
            "\n",
            "--- Processando: flr51y-b-cable.pdf ---\n",
            "Informações textuais extraídas para flr51y-b-cable.pdf.\n",
            "Tabela 1 de flr51y-b-cable.pdf salva em: /content/drive/MyDrive/Eland_Cables_Data/CablesCSV/flr51y-b-cable_Tabela_1.csv\n",
            "Tabela 2 de flr51y-b-cable.pdf salva em: /content/drive/MyDrive/Eland_Cables_Data/CablesCSV/flr51y-b-cable_Tabela_2.csv\n",
            "\n",
            "--- Processando: flr5y-a-cable.pdf ---\n",
            "Informações textuais extraídas para flr5y-a-cable.pdf.\n"
          ]
        },
        {
          "output_type": "stream",
          "name": "stderr",
          "text": [
            "ERROR:tabula.backend:Error from tabula-java:\n",
            "Exception in thread \"main\" java.lang.IndexOutOfBoundsException: Page number does not exist.\n",
            "\tat technology.tabula.ObjectExtractor.extractPage(ObjectExtractor.java:19)\n",
            "\tat technology.tabula.PageIterator.next(PageIterator.java:30)\n",
            "\tat technology.tabula.CommandLineApp.extractFile(CommandLineApp.java:161)\n",
            "\tat technology.tabula.CommandLineApp.extractFileTables(CommandLineApp.java:124)\n",
            "\tat technology.tabula.CommandLineApp.extractTables(CommandLineApp.java:106)\n",
            "\tat technology.tabula.CommandLineApp.main(CommandLineApp.java:76)\n",
            "\n",
            "\n"
          ]
        },
        {
          "output_type": "stream",
          "name": "stdout",
          "text": [
            "Erro ao extrair tabelas de /content/drive/MyDrive/Eland_Cables_Data/CablesPDFs/flr5y-a-cable.pdf: Command '['java', '-Dfile.encoding=UTF8', '-jar', '/usr/local/lib/python3.11/dist-packages/tabula/tabula-1.0.5-jar-with-dependencies.jar', '--pages', '2', '--guess', '--format', 'JSON', '/content/drive/MyDrive/Eland_Cables_Data/CablesPDFs/flr5y-a-cable.pdf']' returned non-zero exit status 1.\n",
            "Nenhuma tabela encontrada ou extraída de flr5y-a-cable.pdf.\n",
            "\n",
            "--- Processando: flr4y-a-cable.pdf ---\n",
            "Informações textuais extraídas para flr4y-a-cable.pdf.\n",
            "Tabela 1 de flr4y-a-cable.pdf salva em: /content/drive/MyDrive/Eland_Cables_Data/CablesCSV/flr4y-a-cable_Tabela_1.csv\n",
            "\n",
            "--- Processando: flry-a-cables.pdf ---\n",
            "Informações textuais extraídas para flry-a-cables.pdf.\n",
            "Tabela 1 de flry-a-cables.pdf salva em: /content/drive/MyDrive/Eland_Cables_Data/CablesCSV/flry-a-cables_Tabela_1.csv\n",
            "\n",
            "--- Processando: flr9y-a-cable.pdf ---\n",
            "Informações textuais extraídas para flr9y-a-cable.pdf.\n",
            "Tabela 1 de flr9y-a-cable.pdf salva em: /content/drive/MyDrive/Eland_Cables_Data/CablesCSV/flr9y-a-cable_Tabela_1.csv\n",
            "Tabela 2 de flr9y-a-cable.pdf salva em: /content/drive/MyDrive/Eland_Cables_Data/CablesCSV/flr9y-a-cable_Tabela_2.csv\n",
            "\n",
            "--- Processando: flr4y-b-cable.pdf ---\n",
            "Informações textuais extraídas para flr4y-b-cable.pdf.\n",
            "Tabela 1 de flr4y-b-cable.pdf salva em: /content/drive/MyDrive/Eland_Cables_Data/CablesCSV/flr4y-b-cable_Tabela_1.csv\n",
            "\n",
            "--- Processando: flr9y-b-cable.pdf ---\n",
            "Informações textuais extraídas para flr9y-b-cable.pdf.\n",
            "Tabela 1 de flr9y-b-cable.pdf salva em: /content/drive/MyDrive/Eland_Cables_Data/CablesCSV/flr9y-b-cable_Tabela_1.csv\n",
            "Tabela 2 de flr9y-b-cable.pdf salva em: /content/drive/MyDrive/Eland_Cables_Data/CablesCSV/flr9y-b-cable_Tabela_2.csv\n",
            "\n",
            "--- Processando: flryw-a-cable.pdf ---\n",
            "Informações textuais extraídas para flryw-a-cable.pdf.\n",
            "Tabela 1 de flryw-a-cable.pdf salva em: /content/drive/MyDrive/Eland_Cables_Data/CablesCSV/flryw-a-cable_Tabela_1.csv\n",
            "\n",
            "--- Processando: flr2x-b-cable.pdf ---\n",
            "Informações textuais extraídas para flr2x-b-cable.pdf.\n",
            "Tabela 1 de flr2x-b-cable.pdf salva em: /content/drive/MyDrive/Eland_Cables_Data/CablesCSV/flr2x-b-cable_Tabela_1.csv\n",
            "\n",
            "--- Processando: flr51y-a-cable.pdf ---\n",
            "Informações textuais extraídas para flr51y-a-cable.pdf.\n",
            "Tabela 1 de flr51y-a-cable.pdf salva em: /content/drive/MyDrive/Eland_Cables_Data/CablesCSV/flr51y-a-cable_Tabela_1.csv\n",
            "\n",
            "--- Processando: flrydy-cable.pdf ---\n",
            "Informações textuais extraídas para flrydy-cable.pdf.\n",
            "Tabela 1 de flrydy-cable.pdf salva em: /content/drive/MyDrive/Eland_Cables_Data/CablesCSV/flrydy-cable_Tabela_1.csv\n",
            "\n",
            "--- Processando: flrywd-cable.pdf ---\n",
            "Informações textuais extraídas para flrywd-cable.pdf.\n",
            "Tabela 1 de flrywd-cable.pdf salva em: /content/drive/MyDrive/Eland_Cables_Data/CablesCSV/flrywd-cable_Tabela_1.csv\n",
            "Tabela 2 de flrywd-cable.pdf salva em: /content/drive/MyDrive/Eland_Cables_Data/CablesCSV/flrywd-cable_Tabela_2.csv\n",
            "\n",
            "--- Processando: flr6y-a-cable.pdf ---\n",
            "Informações textuais extraídas para flr6y-a-cable.pdf.\n",
            "Tabela 1 de flr6y-a-cable.pdf salva em: /content/drive/MyDrive/Eland_Cables_Data/CablesCSV/flr6y-a-cable_Tabela_1.csv\n",
            "Tabela 2 de flr6y-a-cable.pdf salva em: /content/drive/MyDrive/Eland_Cables_Data/CablesCSV/flr6y-a-cable_Tabela_2.csv\n",
            "\n",
            "--- Processando: flryk-cable.pdf ---\n",
            "Informações textuais extraídas para flryk-cable.pdf.\n",
            "Tabela 1 de flryk-cable.pdf salva em: /content/drive/MyDrive/Eland_Cables_Data/CablesCSV/flryk-cable_Tabela_1.csv\n",
            "Tabela 2 de flryk-cable.pdf salva em: /content/drive/MyDrive/Eland_Cables_Data/CablesCSV/flryk-cable_Tabela_2.csv\n",
            "\n",
            "--- Processando: flryy-cable.pdf ---\n",
            "Informações textuais extraídas para flryy-cable.pdf.\n",
            "Tabela 1 de flryy-cable.pdf salva em: /content/drive/MyDrive/Eland_Cables_Data/CablesCSV/flryy-cable_Tabela_1.csv\n",
            "\n",
            "--- Processando: flr14y-cable.pdf ---\n",
            "Informações textuais extraídas para flr14y-cable.pdf.\n",
            "Tabela 1 de flr14y-cable.pdf salva em: /content/drive/MyDrive/Eland_Cables_Data/CablesCSV/flr14y-cable_Tabela_1.csv\n",
            "\n",
            "--- Processando: flr5y-b-cable.pdf ---\n",
            "Informações textuais extraídas para flr5y-b-cable.pdf.\n",
            "Tabela 1 de flr5y-b-cable.pdf salva em: /content/drive/MyDrive/Eland_Cables_Data/CablesCSV/flr5y-b-cable_Tabela_1.csv\n",
            "\n",
            "--- Processando: flr2x-a-cable.pdf ---\n",
            "Informações textuais extraídas para flr2x-a-cable.pdf.\n",
            "Tabela 1 de flr2x-a-cable.pdf salva em: /content/drive/MyDrive/Eland_Cables_Data/CablesCSV/flr2x-a-cable_Tabela_1.csv\n",
            "Tabela 2 de flr2x-a-cable.pdf salva em: /content/drive/MyDrive/Eland_Cables_Data/CablesCSV/flr2x-a-cable_Tabela_2.csv\n",
            "\n",
            "--- Processando: flr6y-b-cable.pdf ---\n",
            "Informações textuais extraídas para flr6y-b-cable.pdf.\n",
            "Tabela 1 de flr6y-b-cable.pdf salva em: /content/drive/MyDrive/Eland_Cables_Data/CablesCSV/flr6y-b-cable_Tabela_1.csv\n",
            "Tabela 2 de flr6y-b-cable.pdf salva em: /content/drive/MyDrive/Eland_Cables_Data/CablesCSV/flr6y-b-cable_Tabela_2.csv\n",
            "\n",
            "--- Processando: flr12y-a-cable.pdf ---\n",
            "Informações textuais extraídas para flr12y-a-cable.pdf.\n",
            "Nenhuma tabela encontrada na página 2 de /content/drive/MyDrive/Eland_Cables_Data/CablesPDFs/flr12y-a-cable.pdf.\n",
            "Nenhuma tabela encontrada ou extraída de flr12y-a-cable.pdf.\n",
            "\n",
            "--- Processando: flr7y-a-cable.pdf ---\n",
            "Informações textuais extraídas para flr7y-a-cable.pdf.\n",
            "Tabela 1 de flr7y-a-cable.pdf salva em: /content/drive/MyDrive/Eland_Cables_Data/CablesCSV/flr7y-a-cable_Tabela_1.csv\n",
            "Tabela 2 de flr7y-a-cable.pdf salva em: /content/drive/MyDrive/Eland_Cables_Data/CablesCSV/flr7y-a-cable_Tabela_2.csv\n",
            "\n",
            "--- Processamento de todos os PDFs concluído ---\n",
            "\n",
            "Todos os dados textuais combinados salvos em: /content/drive/MyDrive/Eland_Cables_Data/CablesCSV/all_cables_textual_data_combined.csv\n",
            "\n",
            "Visualização das primeiras linhas do DataFrame textual combinado:\n",
            "       Cable_Name                                        Application  \\\n",
            "0    flrywk-cable  The FLYWK cable is a reduced wall thickness PV...   \n",
            "1   flr7y-b-cable  The FLR7Y-B cable is a reduced wall thickness ...   \n",
            "2  flr13y-a-cable  The FLR13Y-A is a reduced wall thickness TPE i...   \n",
            "3   flryw-b-cable  FLRYW-B Cables are reduced wall thickness PVC ...   \n",
            "4  flr13y-b-cable  The FLR13Y-A is a reduced wall thickness TPE i...   \n",
            "\n",
            "                      Characteristics  \\\n",
            "0  Temperature Rating -50°C to +105°C   \n",
            "1  Temperature Rating -45°C to +180°C   \n",
            "2  Temperature Rating -40°C to +150°C   \n",
            "3  Temperature Rating -50°C to +125°C   \n",
            "4  Temperature Rating -40°C to +150°C   \n",
            "\n",
            "                                        Construction  \\\n",
            "0  Conductor Bare Copper ETP1 Insulation PVC (Pol...   \n",
            "1  Conductor Cu-ETP1 Bare Copper (Type B) Insulat...   \n",
            "2                                                N/A   \n",
            "3  Conductor Cu-ETP1 Bare Copper (Type B) Insulat...   \n",
            "4  Conductor Bare Copper ETP1 (Type A) Insulation...   \n",
            "\n",
            "                                           Standards Eland_Product_Group  \n",
            "0        DIN EN 13602, ISO 6722 Class B FLRYWK Cable                 A2A  \n",
            "1  ISO 6722 Class E FLR7Y-B Cable technicalspecif...                 A2A  \n",
            "2      DIN EN 13602, ISO 6722 Class D FLR13Y-A Cable                 A2A  \n",
            "3  ISO 6722 Class C FLRYW-B Cable technicalspecif...                 A2A  \n",
            "4                     DIN EN 13602, ISO 6722 Class D                 A2A  \n"
          ]
        }
      ]
    },
    {
      "cell_type": "code",
      "source": [
        "!ls /content/drive/MyDrive/Eland_Cables_Data/CablesCSV/"
      ],
      "metadata": {
        "colab": {
          "base_uri": "https://localhost:8080/"
        },
        "id": "yTVaCCtlTefp",
        "outputId": "fa733351-a95c-4027-9e88-80f9619936dd"
      },
      "execution_count": null,
      "outputs": [
        {
          "output_type": "stream",
          "name": "stdout",
          "text": [
            "all_cables_textual_data_combined.csv  flr9y-a-cable_Tabela_1.csv\n",
            "flr14y-cable_Tabela_1.csv\t      flr9y-a-cable_Tabela_2.csv\n",
            "flr2x-a-cable_Tabela_1.csv\t      flr9y-b-cable_Tabela_1.csv\n",
            "flr2x-a-cable_Tabela_2.csv\t      flr9y-b-cable_Tabela_2.csv\n",
            "flr2x-b-cable_Tabela_1.csv\t      flry-a-cables_Tabela_1.csv\n",
            "flr4y-a-cable_Tabela_1.csv\t      flry-b-cables_Tabela_1.csv\n",
            "flr4y-b-cable_Tabela_1.csv\t      flrydy-cable_Tabela_1.csv\n",
            "flr51y-a-cable_Tabela_1.csv\t      flryk-cable_Tabela_1.csv\n",
            "flr51y-b-cable_Tabela_1.csv\t      flryk-cable_Tabela_2.csv\n",
            "flr51y-b-cable_Tabela_2.csv\t      flryw-a-cable_Tabela_1.csv\n",
            "flr5y-b-cable_Tabela_1.csv\t      flryw-b-cable_Tabela_1.csv\n",
            "flr6y-a-cable_Tabela_1.csv\t      flryw-b-cable_Tabela_2.csv\n",
            "flr6y-a-cable_Tabela_2.csv\t      flrywd-cable_Tabela_1.csv\n",
            "flr6y-b-cable_Tabela_1.csv\t      flrywd-cable_Tabela_2.csv\n",
            "flr6y-b-cable_Tabela_2.csv\t      flrywk-cable_Tabela_1.csv\n",
            "flr7y-a-cable_Tabela_1.csv\t      flryy-cable_Tabela_1.csv\n",
            "flr7y-a-cable_Tabela_2.csv\n"
          ]
        }
      ]
    },
    {
      "cell_type": "code",
      "source": [
        "final_combined_textual_df['Characteristics']\n",
        "\n",
        "#final_combined_textual_df['Construction']\n",
        "\n",
        "#final_combined_textual_df['Standards']\n",
        "\n",
        "#final_combined_textual_df['Application']\n",
        "\n",
        "#final_combined_textual_df['Eland_Product_Group']\n",
        "\n",
        "#final_combined_textual_df['Cable_Name']"
      ],
      "metadata": {
        "colab": {
          "base_uri": "https://localhost:8080/",
          "height": 962
        },
        "id": "6_Wi8AEh5tzN",
        "outputId": "118c80e8-99f4-4cf5-b89a-c08c9850f9cb"
      },
      "execution_count": null,
      "outputs": [
        {
          "output_type": "execute_result",
          "data": {
            "text/plain": [
              "0                    Temperature Rating -50°C to +105°C\n",
              "1                    Temperature Rating -45°C to +180°C\n",
              "2                    Temperature Rating -40°C to +150°C\n",
              "3                    Temperature Rating -50°C to +125°C\n",
              "4                    Temperature Rating -40°C to +150°C\n",
              "5     Test Voltage 3kv i.e < 0.5mm² 5kv i.e > 0.5mm²...\n",
              "6                    Temperature Rating -40°C to +150°C\n",
              "7                    Temperature Rating -40°C to +250°C\n",
              "8               Temperature Rating -40°C to +260°C Blue\n",
              "9     Temperature Rating -40°C to +105°C Sheath Colo...\n",
              "10    Test Voltage 3kv i.e < 0.5mm² 5kv i.e > 0.5mm²...\n",
              "11                   Temperature Rating -40°C to +125°C\n",
              "12     Temperature Rating -40°C to +105°C Sheath Colour\n",
              "13                   Temperature Rating -40°C to +125°C\n",
              "14                   Temperature Rating -50°C to +125°C\n",
              "15     Temperature Rating -40°C to +125°C Sheath Colour\n",
              "16                   Temperature Rating -40°C to +250°C\n",
              "17            Temperature Rating Fixed: -40°C to +105°C\n",
              "18                   Temperature Rating -40°C to +105°C\n",
              "19                   Temperature Rating -65°C to +210°C\n",
              "20             Temperature Rating -50°C to +105°C Green\n",
              "21    Test Voltage 2 kV min. 5 minutes Temperature R...\n",
              "22                   Temperature Rating -80°C to +260°C\n",
              "23                   Temperature Rating -40°C to +260°C\n",
              "24                   Temperature Rating -40°C to +125°C\n",
              "25                   Temperature Rating -65°C to +210°C\n",
              "26                   Temperature Rating -40°C to +150°C\n",
              "27                   Temperature Rating -45°C to +180°C\n",
              "Name: Characteristics, dtype: object"
            ],
            "text/html": [
              "<div>\n",
              "<style scoped>\n",
              "    .dataframe tbody tr th:only-of-type {\n",
              "        vertical-align: middle;\n",
              "    }\n",
              "\n",
              "    .dataframe tbody tr th {\n",
              "        vertical-align: top;\n",
              "    }\n",
              "\n",
              "    .dataframe thead th {\n",
              "        text-align: right;\n",
              "    }\n",
              "</style>\n",
              "<table border=\"1\" class=\"dataframe\">\n",
              "  <thead>\n",
              "    <tr style=\"text-align: right;\">\n",
              "      <th></th>\n",
              "      <th>Characteristics</th>\n",
              "    </tr>\n",
              "  </thead>\n",
              "  <tbody>\n",
              "    <tr>\n",
              "      <th>0</th>\n",
              "      <td>Temperature Rating -50°C to +105°C</td>\n",
              "    </tr>\n",
              "    <tr>\n",
              "      <th>1</th>\n",
              "      <td>Temperature Rating -45°C to +180°C</td>\n",
              "    </tr>\n",
              "    <tr>\n",
              "      <th>2</th>\n",
              "      <td>Temperature Rating -40°C to +150°C</td>\n",
              "    </tr>\n",
              "    <tr>\n",
              "      <th>3</th>\n",
              "      <td>Temperature Rating -50°C to +125°C</td>\n",
              "    </tr>\n",
              "    <tr>\n",
              "      <th>4</th>\n",
              "      <td>Temperature Rating -40°C to +150°C</td>\n",
              "    </tr>\n",
              "    <tr>\n",
              "      <th>5</th>\n",
              "      <td>Test Voltage 3kv i.e &lt; 0.5mm² 5kv i.e &gt; 0.5mm²...</td>\n",
              "    </tr>\n",
              "    <tr>\n",
              "      <th>6</th>\n",
              "      <td>Temperature Rating -40°C to +150°C</td>\n",
              "    </tr>\n",
              "    <tr>\n",
              "      <th>7</th>\n",
              "      <td>Temperature Rating -40°C to +250°C</td>\n",
              "    </tr>\n",
              "    <tr>\n",
              "      <th>8</th>\n",
              "      <td>Temperature Rating -40°C to +260°C Blue</td>\n",
              "    </tr>\n",
              "    <tr>\n",
              "      <th>9</th>\n",
              "      <td>Temperature Rating -40°C to +105°C Sheath Colo...</td>\n",
              "    </tr>\n",
              "    <tr>\n",
              "      <th>10</th>\n",
              "      <td>Test Voltage 3kv i.e &lt; 0.5mm² 5kv i.e &gt; 0.5mm²...</td>\n",
              "    </tr>\n",
              "    <tr>\n",
              "      <th>11</th>\n",
              "      <td>Temperature Rating -40°C to +125°C</td>\n",
              "    </tr>\n",
              "    <tr>\n",
              "      <th>12</th>\n",
              "      <td>Temperature Rating -40°C to +105°C Sheath Colour</td>\n",
              "    </tr>\n",
              "    <tr>\n",
              "      <th>13</th>\n",
              "      <td>Temperature Rating -40°C to +125°C</td>\n",
              "    </tr>\n",
              "    <tr>\n",
              "      <th>14</th>\n",
              "      <td>Temperature Rating -50°C to +125°C</td>\n",
              "    </tr>\n",
              "    <tr>\n",
              "      <th>15</th>\n",
              "      <td>Temperature Rating -40°C to +125°C Sheath Colour</td>\n",
              "    </tr>\n",
              "    <tr>\n",
              "      <th>16</th>\n",
              "      <td>Temperature Rating -40°C to +250°C</td>\n",
              "    </tr>\n",
              "    <tr>\n",
              "      <th>17</th>\n",
              "      <td>Temperature Rating Fixed: -40°C to +105°C</td>\n",
              "    </tr>\n",
              "    <tr>\n",
              "      <th>18</th>\n",
              "      <td>Temperature Rating -40°C to +105°C</td>\n",
              "    </tr>\n",
              "    <tr>\n",
              "      <th>19</th>\n",
              "      <td>Temperature Rating -65°C to +210°C</td>\n",
              "    </tr>\n",
              "    <tr>\n",
              "      <th>20</th>\n",
              "      <td>Temperature Rating -50°C to +105°C Green</td>\n",
              "    </tr>\n",
              "    <tr>\n",
              "      <th>21</th>\n",
              "      <td>Test Voltage 2 kV min. 5 minutes Temperature R...</td>\n",
              "    </tr>\n",
              "    <tr>\n",
              "      <th>22</th>\n",
              "      <td>Temperature Rating -80°C to +260°C</td>\n",
              "    </tr>\n",
              "    <tr>\n",
              "      <th>23</th>\n",
              "      <td>Temperature Rating -40°C to +260°C</td>\n",
              "    </tr>\n",
              "    <tr>\n",
              "      <th>24</th>\n",
              "      <td>Temperature Rating -40°C to +125°C</td>\n",
              "    </tr>\n",
              "    <tr>\n",
              "      <th>25</th>\n",
              "      <td>Temperature Rating -65°C to +210°C</td>\n",
              "    </tr>\n",
              "    <tr>\n",
              "      <th>26</th>\n",
              "      <td>Temperature Rating -40°C to +150°C</td>\n",
              "    </tr>\n",
              "    <tr>\n",
              "      <th>27</th>\n",
              "      <td>Temperature Rating -45°C to +180°C</td>\n",
              "    </tr>\n",
              "  </tbody>\n",
              "</table>\n",
              "</div><br><label><b>dtype:</b> object</label>"
            ]
          },
          "metadata": {},
          "execution_count": 13
        }
      ]
    }
  ]
}